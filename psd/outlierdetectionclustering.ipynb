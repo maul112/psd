{
 "cells": [
  {
   "cell_type": "markdown",
   "id": "6556ac83",
   "metadata": {},
   "source": [
    "# Outlier Detection dan Clustering"
   ]
  },
  {
   "cell_type": "markdown",
   "id": "e2ec19d3",
   "metadata": {},
   "source": [
    "## Data Understanding"
   ]
  },
  {
   "cell_type": "markdown",
   "id": "6bce92f3",
   "metadata": {},
   "source": [
    "Data understanding adalah tahap awal dalam proses pengolahan data yang bertujuan untuk mengenal dan memahami karakteristik data yang dimiliki sebelum dilakukan analisis lebih lanjut. Pada tahap ini, peneliti atau analis akan mengeksplorasi data dengan melihat struktur, tipe variabel, distribusi nilai, pola, serta potensi masalah seperti data hilang, duplikasi, atau outlier. Melalui proses ini, diperoleh wawasan awal mengenai kualitas data dan gambaran informasi yang terkandung di dalamnya, sehingga dapat membantu menentukan langkah persiapan data yang tepat serta strategi analisis yang sesuai."
   ]
  },
  {
   "cell_type": "markdown",
   "id": "8c8016b6",
   "metadata": {},
   "source": [
    "# Pengumpulan Data"
   ]
  },
  {
   "cell_type": "markdown",
   "id": "5e4603eb",
   "metadata": {},
   "source": [
    "Kali ini saya menggunakan data iris dengan bentuk csv dari sumber https://www.kaggle.com/datasets/uciml/iris. Didalam data tersebut terdapat 6 fitur yaitu id, SepalLengthCm, SepalWidthCm, PetalLengthCm, PetalWidthCm, dan Species. Setelah itu saya pecah data menjadi dua bagian seperti kolom SepalLengthCm dan SepalWidthCm saya taruh di database MySQL dan kolom PetalLengthCm dan PetalWidthCm saya taruh di database PostgreSQL. Lalu saya tarik data dari kedua database tersebut kedalam Power BI menggunakan Python Script didalam Power BI.\n",
    "\n",
    "1. Install psycopg2 menggunakan pip untuk connector ke database PostgreSQL\n",
    "\n",
    "```{code}\n",
    "pip install psycopg2\n",
    "```\n",
    "\n",
    "2. Install mysql connector menggunakan pip untuk connector ke database MySQL\n",
    "\n",
    "```{code}\n",
    "pip install mysql-connector-python\n",
    "```\n",
    "\n",
    "3. Buka Power BI\n",
    "\n",
    "Lalu pilih (Get data from other source) sebelah kanan atas\n",
    "\n",
    "![Teks alternatif](img/Screenshot%20(218).png)\n",
    "\n",
    "Cari \"Python Script\" lalu pilih \"Connect\".\n",
    "\n",
    "![Teks alternatif](img/Screenshot%20(219).png)\n",
    "\n",
    "lalu masukkan script Python berikut untuk melakukan simulasi pemisahan kolom data:\n",
    "\n",
    "```{code}\n",
    "import pandas as pd\n",
    "import mysql.connector\n",
    "import psycopg2\n",
    "\n",
    "# 1. Koneksi ke MySQL\n",
    "mysql_conn = mysql.connector.connect(\n",
    "    host=\"localhost\",\n",
    "    user=\"root\",\n",
    "    password=\"\",\n",
    "    database=\"psd\"\n",
    ")\n",
    "\n",
    "query_mysql = \"SELECT * FROM halfiris\"\n",
    "df_mysql = pd.read_sql(query_mysql, mysql_conn)\n",
    "\n",
    "# 2. Koneksi ke PostgreSQL\n",
    "pg_conn = psycopg2.connect(\n",
    "    host=\"localhost\",\n",
    "    user=\"postgres\",\n",
    "    password=\"1123581321\",\n",
    "    database=\"psd\"\n",
    ")\n",
    "\n",
    "query_pg = \"SELECT * FROM halfiris\"\n",
    "df_pg = pd.read_sql(query_pg, pg_conn)\n",
    "```\n",
    "\n",
    "![Teks alternatif](img/Screenshot%20(220).png)\n",
    "\n",
    "sebelumnya saya sudah memisahkan data Iris menjadi dua bagian. Bagian kolom id, SepalLengthCm dan SepalWidthCm saya taruh di database MySQL dan kolom id, PetalLengthCm dan PetalWidthCm saya taruh di database PostgreSQL.\n",
    "\n",
    "Lalu pilih dua tabel hasil return dari Script Python. Setelah itu klik Load. Tunggu data hingga ke-Load.\n",
    "\n",
    "![Teks alternatif](img/Screenshot%20(221).png)\n",
    "\n",
    "Pilih (Transform Data) pada ribbon Power BI (bagian atas), lalu pilih lagi \"Transform Data\".\n",
    "\n",
    "![Teks alternatif](img/Screenshot%20(230).png)\n",
    "\n",
    "Lalu pilih \"Merge Queries\" dan klik \"Merge Queries as New\".\n",
    "\n",
    "![Teks alternatif](img/Screenshot%20(224).png)\n",
    "\n",
    "Pilih id dari kedua data sebagai acuan persamaan antar barisnya. Lalu klik \"Ok\".\n",
    "\n",
    "![Teks alternatif](img/Screenshot%20(225).png)\n",
    "\n",
    "Setelah itu expand tabel df_pg dan jangan pilih kolom id agar kolom id hanya ada satu saja. Lalu pilih \"close and apply\" dan pilih tab Table view. Setelah itu tampilannya akan seperti berikut:\n",
    "\n",
    "![Teks alternatif](img/Screenshot%20(226).png)\n",
    "\n",
    "![Teks alternatif](img/Screenshot%20(229).png)\n",
    "\n",
    "Maka data akan tergabung. Itulah simulasi menarik data yang terpisah dan menyatukannya di Power BI.\n",
    "\n",
    "![Teks alternatif]()\n",
    "![Teks alternatif]()\n",
    "![Teks alternatif]()\n",
    "![Teks alternatif]()\n",
    "![Teks alternatif]()\n",
    "\n"
   ]
  }
 ],
 "metadata": {
  "language_info": {
   "name": "python"
  }
 },
 "nbformat": 4,
 "nbformat_minor": 5
}
