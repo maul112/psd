{
 "cells": [
  {
   "cell_type": "markdown",
   "id": "6556ac83",
   "metadata": {},
   "source": [
    "# Outlier Detection dan Clustering"
   ]
  },
  {
   "cell_type": "markdown",
   "id": "e2ec19d3",
   "metadata": {},
   "source": [
    "## Data Understanding"
   ]
  },
  {
   "cell_type": "markdown",
   "id": "6bce92f3",
   "metadata": {},
   "source": [
    "Data understanding adalah tahap awal dalam proses pengolahan data yang bertujuan untuk mengenal dan memahami karakteristik data yang dimiliki sebelum dilakukan analisis lebih lanjut. Pada tahap ini, peneliti atau analis akan mengeksplorasi data dengan melihat struktur, tipe variabel, distribusi nilai, pola, serta potensi masalah seperti data hilang, duplikasi, atau outlier. Melalui proses ini, diperoleh wawasan awal mengenai kualitas data dan gambaran informasi yang terkandung di dalamnya, sehingga dapat membantu menentukan langkah persiapan data yang tepat serta strategi analisis yang sesuai."
   ]
  },
  {
   "cell_type": "markdown",
   "id": "8c8016b6",
   "metadata": {},
   "source": [
    "# Pengumpulan Data"
   ]
  },
  {
   "cell_type": "markdown",
   "id": "5e4603eb",
   "metadata": {},
   "source": [
    "Kali ini saya menggunakan data iris dengan bentuk csv dari sumber https://www.kaggle.com/datasets/uciml/iris. Didalam data tersebut terdapat 6 fitur yaitu id, SepalLengthCm, SepalWidthCm, PetalLengthCm, PetalWidthCm, dan Species. Setelah itu saya pecah data menjadi dua bagian seperti kolom SepalLengthCm dan SepalWidthCm saya taruh di database MySQL dan kolom PetalLengthCm dan PetalWidthCm saya taruh di database PostgreSQL. Lalu saya tarik data dari kedua database tersebut kedalam Power BI menggunakan Python Script didalam Power BI.\n",
    "\n",
    "1. Install psycopg2 menggunakan pip untuk connector ke database PostgreSQL\n",
    "\n",
    "```{code}\n",
    "pip install psycopg2\n",
    "```\n",
    "\n",
    "2. Install mysql connector menggunakan pip untuk connector ke database MySQL\n",
    "\n",
    "```{code}\n",
    "pip install mysql-connector-python\n",
    "```\n",
    "\n"
   ]
  }
 ],
 "metadata": {
  "language_info": {
   "name": "python"
  }
 },
 "nbformat": 4,
 "nbformat_minor": 5
}
